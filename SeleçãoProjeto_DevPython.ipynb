{
  "nbformat": 4,
  "nbformat_minor": 0,
  "metadata": {
    "colab": {
      "name": "SeleçãoProjeto_DevPython.ipynb",
      "provenance": [],
      "collapsed_sections": [],
      "authorship_tag": "ABX9TyN4YSZ1j6zLuRMmvkTMrRXW",
      "include_colab_link": true
    },
    "kernelspec": {
      "display_name": "Python 3",
      "name": "python3"
    },
    "language_info": {
      "name": "python"
    }
  },
  "cells": [
    {
      "cell_type": "markdown",
      "metadata": {
        "id": "view-in-github",
        "colab_type": "text"
      },
      "source": [
        "<a href=\"https://colab.research.google.com/github/LucasAMiranda/Mesha/blob/master/Sele%C3%A7%C3%A3oProjeto_DevPython.ipynb\" target=\"_parent\"><img src=\"https://colab.research.google.com/assets/colab-badge.svg\" alt=\"Open In Colab\"/></a>"
      ]
    },
    {
      "cell_type": "markdown",
      "metadata": {
        "id": "6DyAA-UKxDYN"
      },
      "source": [
        "\n",
        "**OBS: Para saber se o etanol é mais vantajoso, basta dividir o preço do litro do etanol pelo da gasolina. Se o resultado for inferior a 0,7, o etanol r é o melhor para abastecer. Se for maior que 0,7, então a gasolina é melhor**\n",
        "\n"
      ]
    },
    {
      "cell_type": "code",
      "metadata": {
        "id": "Rs5Znr4WFa4T"
      },
      "source": [
        "#importando bibliotecas\n",
        "import pandas as pd\n",
        "import matplotlib.pyplot as plt\n",
        "import numpy as np\n",
        "import urllib.request\n",
        "import json\n",
        "import ssl"
      ],
      "execution_count": 4,
      "outputs": []
    },
    {
      "cell_type": "code",
      "metadata": {
        "colab": {
          "base_uri": "https://localhost:8080/",
          "height": 900
        },
        "id": "t0GoW8U7Fh2B",
        "outputId": "8af30372-0c5c-4cde-dc39-818dc6ccc811"
      },
      "source": [
        "df = pd.read_csv('2021-04-gasolina-etanol.csv', sep=';' , encoding='utf-8', error_bad_lines=False)\n",
        "df"
      ],
      "execution_count": 6,
      "outputs": [
        {
          "output_type": "execute_result",
          "data": {
            "text/html": [
              "<div>\n",
              "<style scoped>\n",
              "    .dataframe tbody tr th:only-of-type {\n",
              "        vertical-align: middle;\n",
              "    }\n",
              "\n",
              "    .dataframe tbody tr th {\n",
              "        vertical-align: top;\n",
              "    }\n",
              "\n",
              "    .dataframe thead th {\n",
              "        text-align: right;\n",
              "    }\n",
              "</style>\n",
              "<table border=\"1\" class=\"dataframe\">\n",
              "  <thead>\n",
              "    <tr style=\"text-align: right;\">\n",
              "      <th></th>\n",
              "      <th>Região - Sigla</th>\n",
              "      <th>Estado - Sigla</th>\n",
              "      <th>Município</th>\n",
              "      <th>Revenda</th>\n",
              "      <th>CNPJ da Revenda</th>\n",
              "      <th>Nome da Rua</th>\n",
              "      <th>Número Rua</th>\n",
              "      <th>Complemento</th>\n",
              "      <th>Bairro</th>\n",
              "      <th>Cep</th>\n",
              "      <th>Produto</th>\n",
              "      <th>Data da Coleta</th>\n",
              "      <th>Valor de Venda</th>\n",
              "      <th>Valor de Compra</th>\n",
              "      <th>Unidade de Medida</th>\n",
              "      <th>Bandeira</th>\n",
              "    </tr>\n",
              "  </thead>\n",
              "  <tbody>\n",
              "    <tr>\n",
              "      <th>0</th>\n",
              "      <td>N</td>\n",
              "      <td>AP</td>\n",
              "      <td>MACAPA</td>\n",
              "      <td>POSTO ICCAR LTDA</td>\n",
              "      <td>02.280.133/0034-52</td>\n",
              "      <td>AVENIDA RIO VILA NOVA</td>\n",
              "      <td>62</td>\n",
              "      <td>ESQ. C/ RUA BEIRA RIO</td>\n",
              "      <td>TREM</td>\n",
              "      <td>68905-160</td>\n",
              "      <td>GASOLINA</td>\n",
              "      <td>01/04/2021</td>\n",
              "      <td>4,69</td>\n",
              "      <td>NaN</td>\n",
              "      <td>R$ / litro</td>\n",
              "      <td>BRANCA</td>\n",
              "    </tr>\n",
              "    <tr>\n",
              "      <th>1</th>\n",
              "      <td>N</td>\n",
              "      <td>AP</td>\n",
              "      <td>MACAPA</td>\n",
              "      <td>POSTO COLONIAL NORTE LTDA</td>\n",
              "      <td>06.202.894/0001-89</td>\n",
              "      <td>RUA SAO PAULO</td>\n",
              "      <td>381</td>\n",
              "      <td>NaN</td>\n",
              "      <td>PACOVAL</td>\n",
              "      <td>68908-370</td>\n",
              "      <td>GASOLINA</td>\n",
              "      <td>01/04/2021</td>\n",
              "      <td>4,99</td>\n",
              "      <td>NaN</td>\n",
              "      <td>R$ / litro</td>\n",
              "      <td>BRANCA</td>\n",
              "    </tr>\n",
              "    <tr>\n",
              "      <th>2</th>\n",
              "      <td>N</td>\n",
              "      <td>AP</td>\n",
              "      <td>MACAPA</td>\n",
              "      <td>AUTOMOTO COMBUSTIVEIS DO AMAPA LTDA</td>\n",
              "      <td>05.983.192/0003-89</td>\n",
              "      <td>RUA CANDIDO MENDES</td>\n",
              "      <td>167</td>\n",
              "      <td>NaN</td>\n",
              "      <td>CENTRAL</td>\n",
              "      <td>68900-100</td>\n",
              "      <td>GASOLINA</td>\n",
              "      <td>01/04/2021</td>\n",
              "      <td>4,75</td>\n",
              "      <td>NaN</td>\n",
              "      <td>R$ / litro</td>\n",
              "      <td>BRANCA</td>\n",
              "    </tr>\n",
              "    <tr>\n",
              "      <th>3</th>\n",
              "      <td>N</td>\n",
              "      <td>AP</td>\n",
              "      <td>MACAPA</td>\n",
              "      <td>AUTO POSTO TERCEIRO MILÊNIO LTDA</td>\n",
              "      <td>03.199.834/0001-66</td>\n",
              "      <td>RUA MATO GROSSO</td>\n",
              "      <td>430</td>\n",
              "      <td>NaN</td>\n",
              "      <td>PACOVAL</td>\n",
              "      <td>68900-000</td>\n",
              "      <td>GASOLINA</td>\n",
              "      <td>01/04/2021</td>\n",
              "      <td>4,99</td>\n",
              "      <td>NaN</td>\n",
              "      <td>R$ / litro</td>\n",
              "      <td>PETROBRAS DISTRIBUIDORA S.A.</td>\n",
              "    </tr>\n",
              "    <tr>\n",
              "      <th>4</th>\n",
              "      <td>NE</td>\n",
              "      <td>BA</td>\n",
              "      <td>ITABUNA</td>\n",
              "      <td>PEIXOTO PRODUTOS DE PETROLEO LTDA</td>\n",
              "      <td>32.609.778/0001-99</td>\n",
              "      <td>AVENIDA JURACY MAGALHAES</td>\n",
              "      <td>782</td>\n",
              "      <td>TERREO</td>\n",
              "      <td>FATIMA</td>\n",
              "      <td>45603-530</td>\n",
              "      <td>GASOLINA ADITIVADA</td>\n",
              "      <td>01/04/2021</td>\n",
              "      <td>5,89</td>\n",
              "      <td>NaN</td>\n",
              "      <td>R$ / litro</td>\n",
              "      <td>RAIZEN</td>\n",
              "    </tr>\n",
              "    <tr>\n",
              "      <th>...</th>\n",
              "      <td>...</td>\n",
              "      <td>...</td>\n",
              "      <td>...</td>\n",
              "      <td>...</td>\n",
              "      <td>...</td>\n",
              "      <td>...</td>\n",
              "      <td>...</td>\n",
              "      <td>...</td>\n",
              "      <td>...</td>\n",
              "      <td>...</td>\n",
              "      <td>...</td>\n",
              "      <td>...</td>\n",
              "      <td>...</td>\n",
              "      <td>...</td>\n",
              "      <td>...</td>\n",
              "      <td>...</td>\n",
              "    </tr>\n",
              "    <tr>\n",
              "      <th>35600</th>\n",
              "      <td>NE</td>\n",
              "      <td>PE</td>\n",
              "      <td>VITORIA DE SANTO ANTAO</td>\n",
              "      <td>OLIVEIRA E SILVA POSTOS LTDA</td>\n",
              "      <td>35.228.711/0001-00</td>\n",
              "      <td>AVENIDA HENRIQUE DE HOLANDA</td>\n",
              "      <td>S/N</td>\n",
              "      <td>ANEXO 01</td>\n",
              "      <td>REDENCAO</td>\n",
              "      <td>55612-025</td>\n",
              "      <td>GASOLINA</td>\n",
              "      <td>25/04/2021</td>\n",
              "      <td>5,36</td>\n",
              "      <td>NaN</td>\n",
              "      <td>R$ / litro</td>\n",
              "      <td>BRANCA</td>\n",
              "    </tr>\n",
              "    <tr>\n",
              "      <th>35601</th>\n",
              "      <td>NE</td>\n",
              "      <td>PE</td>\n",
              "      <td>VITORIA DE SANTO ANTAO</td>\n",
              "      <td>OLIVEIRA E SILVA POSTOS LTDA</td>\n",
              "      <td>35.228.711/0001-00</td>\n",
              "      <td>AVENIDA HENRIQUE DE HOLANDA</td>\n",
              "      <td>S/N</td>\n",
              "      <td>ANEXO 01</td>\n",
              "      <td>REDENCAO</td>\n",
              "      <td>55612-025</td>\n",
              "      <td>ETANOL</td>\n",
              "      <td>25/04/2021</td>\n",
              "      <td>4,52</td>\n",
              "      <td>NaN</td>\n",
              "      <td>R$ / litro</td>\n",
              "      <td>BRANCA</td>\n",
              "    </tr>\n",
              "    <tr>\n",
              "      <th>35602</th>\n",
              "      <td>SE</td>\n",
              "      <td>ES</td>\n",
              "      <td>ARACRUZ</td>\n",
              "      <td>POSTO DE COMBUSTIVEL SHOW EIRELI</td>\n",
              "      <td>23.797.660/0001-40</td>\n",
              "      <td>AVENIDA CORONEL VENANCIO FLORES</td>\n",
              "      <td>28</td>\n",
              "      <td>NaN</td>\n",
              "      <td>CENTRO</td>\n",
              "      <td>29190-010</td>\n",
              "      <td>GASOLINA</td>\n",
              "      <td>26/04/2021</td>\n",
              "      <td>5,57</td>\n",
              "      <td>NaN</td>\n",
              "      <td>R$ / litro</td>\n",
              "      <td>BRANCA</td>\n",
              "    </tr>\n",
              "    <tr>\n",
              "      <th>35603</th>\n",
              "      <td>SE</td>\n",
              "      <td>ES</td>\n",
              "      <td>ARACRUZ</td>\n",
              "      <td>POSTO DE COMBUSTIVEL SHOW EIRELI</td>\n",
              "      <td>23.797.660/0001-40</td>\n",
              "      <td>AVENIDA CORONEL VENANCIO FLORES</td>\n",
              "      <td>28</td>\n",
              "      <td>NaN</td>\n",
              "      <td>CENTRO</td>\n",
              "      <td>29190-010</td>\n",
              "      <td>ETANOL</td>\n",
              "      <td>26/04/2021</td>\n",
              "      <td>4,49</td>\n",
              "      <td>NaN</td>\n",
              "      <td>R$ / litro</td>\n",
              "      <td>BRANCA</td>\n",
              "    </tr>\n",
              "    <tr>\n",
              "      <th>35604</th>\n",
              "      <td>SE</td>\n",
              "      <td>ES</td>\n",
              "      <td>ARACRUZ</td>\n",
              "      <td>POSTO DE COMBUSTIVEL SHOW EIRELI</td>\n",
              "      <td>23.797.660/0001-40</td>\n",
              "      <td>AVENIDA CORONEL VENANCIO FLORES</td>\n",
              "      <td>28</td>\n",
              "      <td>NaN</td>\n",
              "      <td>CENTRO</td>\n",
              "      <td>29190-010</td>\n",
              "      <td>GASOLINA ADITIVADA</td>\n",
              "      <td>26/04/2021</td>\n",
              "      <td>5,57</td>\n",
              "      <td>NaN</td>\n",
              "      <td>R$ / litro</td>\n",
              "      <td>BRANCA</td>\n",
              "    </tr>\n",
              "  </tbody>\n",
              "</table>\n",
              "<p>35605 rows × 16 columns</p>\n",
              "</div>"
            ],
            "text/plain": [
              "      Região - Sigla  ...                      Bandeira\n",
              "0                  N  ...                        BRANCA\n",
              "1                  N  ...                        BRANCA\n",
              "2                  N  ...                        BRANCA\n",
              "3                  N  ...  PETROBRAS DISTRIBUIDORA S.A.\n",
              "4                 NE  ...                        RAIZEN\n",
              "...              ...  ...                           ...\n",
              "35600             NE  ...                        BRANCA\n",
              "35601             NE  ...                        BRANCA\n",
              "35602             SE  ...                        BRANCA\n",
              "35603             SE  ...                        BRANCA\n",
              "35604             SE  ...                        BRANCA\n",
              "\n",
              "[35605 rows x 16 columns]"
            ]
          },
          "metadata": {},
          "execution_count": 6
        }
      ]
    },
    {
      "cell_type": "code",
      "metadata": {
        "colab": {
          "base_uri": "https://localhost:8080/"
        },
        "id": "GGeFzW-PF1D0",
        "outputId": "33486d9d-ab7a-41e4-f61a-227584907a4f"
      },
      "source": [
        "#Maior valor da gasolina por estado\n",
        "\n",
        "df = df[['Estado - Sigla', 'Valor de Venda']].groupby('Estado - Sigla').max()\n",
        "#df.info()\n",
        "df.head()\n",
        "print(df)"
      ],
      "execution_count": null,
      "outputs": [
        {
          "output_type": "stream",
          "name": "stdout",
          "text": [
            "               Valor de Venda\n",
            "Estado - Sigla               \n",
            "AC                       6,89\n",
            "AL                      6,299\n",
            "AM                       5,83\n",
            "AP                       5,35\n",
            "BA                      6,999\n",
            "CE                      5,999\n",
            "DF                      6,359\n",
            "ES                      6,999\n",
            "GO                       6,29\n",
            "MA                      5,899\n",
            "MG                      6,369\n",
            "MS                      6,164\n",
            "MT                      5,899\n",
            "PA                        6,1\n",
            "PB                      5,729\n",
            "PE                      6,199\n",
            "PI                       6,27\n",
            "PR                       6,29\n",
            "RJ                      6,998\n",
            "RN                       5,89\n",
            "RO                       6,06\n",
            "RR                       5,69\n",
            "RS                      6,767\n",
            "SC                      5,939\n",
            "SE                      5,999\n",
            "SP                      6,999\n",
            "TO                      6,119\n"
          ]
        }
      ]
    },
    {
      "cell_type": "code",
      "metadata": {
        "colab": {
          "base_uri": "https://localhost:8080/"
        },
        "id": "QvRShz7dIWXv",
        "outputId": "6ef32e10-d93b-477f-c65a-cbfd9dc68d7b"
      },
      "source": [
        "df.count()"
      ],
      "execution_count": null,
      "outputs": [
        {
          "output_type": "execute_result",
          "data": {
            "text/plain": [
              "Valor de Venda    27\n",
              "dtype: int64"
            ]
          },
          "metadata": {},
          "execution_count": 43
        }
      ]
    },
    {
      "cell_type": "code",
      "metadata": {
        "colab": {
          "base_uri": "https://localhost:8080/",
          "height": 170
        },
        "id": "iQtWEYR9IetR",
        "outputId": "8773d0e6-ab56-478c-829f-1eac84b57a2b"
      },
      "source": [
        "#Descreve as colunas númericas\n",
        "df.describe()"
      ],
      "execution_count": null,
      "outputs": [
        {
          "output_type": "execute_result",
          "data": {
            "text/html": [
              "<div>\n",
              "<style scoped>\n",
              "    .dataframe tbody tr th:only-of-type {\n",
              "        vertical-align: middle;\n",
              "    }\n",
              "\n",
              "    .dataframe tbody tr th {\n",
              "        vertical-align: top;\n",
              "    }\n",
              "\n",
              "    .dataframe thead th {\n",
              "        text-align: right;\n",
              "    }\n",
              "</style>\n",
              "<table border=\"1\" class=\"dataframe\">\n",
              "  <thead>\n",
              "    <tr style=\"text-align: right;\">\n",
              "      <th></th>\n",
              "      <th>Valor de Venda</th>\n",
              "    </tr>\n",
              "  </thead>\n",
              "  <tbody>\n",
              "    <tr>\n",
              "      <th>count</th>\n",
              "      <td>27</td>\n",
              "    </tr>\n",
              "    <tr>\n",
              "      <th>unique</th>\n",
              "      <td>22</td>\n",
              "    </tr>\n",
              "    <tr>\n",
              "      <th>top</th>\n",
              "      <td>6,999</td>\n",
              "    </tr>\n",
              "    <tr>\n",
              "      <th>freq</th>\n",
              "      <td>3</td>\n",
              "    </tr>\n",
              "  </tbody>\n",
              "</table>\n",
              "</div>"
            ],
            "text/plain": [
              "       Valor de Venda\n",
              "count              27\n",
              "unique             22\n",
              "top             6,999\n",
              "freq                3"
            ]
          },
          "metadata": {},
          "execution_count": 44
        }
      ]
    },
    {
      "cell_type": "code",
      "metadata": {
        "colab": {
          "base_uri": "https://localhost:8080/"
        },
        "id": "v6ViipmGJFIW",
        "outputId": "b62e6c75-3000-4c57-c311-2574eb9047d9"
      },
      "source": [
        "#mostra os tipos de cada coluna do dataframe\n",
        "df.dtypes"
      ],
      "execution_count": null,
      "outputs": [
        {
          "output_type": "execute_result",
          "data": {
            "text/plain": [
              "Valor de Venda    object\n",
              "dtype: object"
            ]
          },
          "metadata": {},
          "execution_count": 45
        }
      ]
    },
    {
      "cell_type": "code",
      "metadata": {
        "colab": {
          "base_uri": "https://localhost:8080/",
          "height": 278
        },
        "id": "bUcVvnmrF_nP",
        "outputId": "73e158da-8914-41ad-df85-3d092eda0dc4"
      },
      "source": [
        "meses = ['Jan' , 'Fev', 'Mar', 'Abr']\n",
        "plt.xlabel('Mês Abril 2021')\n",
        "plt.ylabel('Média/Litros')\n",
        "plt.hist(meses)\n",
        "plt.show()"
      ],
      "execution_count": null,
      "outputs": [
        {
          "output_type": "display_data",
          "data": {
            "image/png": "[encoded data removed]",
            "text/plain": [
              "<Figure size 432x288 with 1 Axes>"
            ]
          },
          "metadata": {
            "needs_background": "light"
          }
        }
      ]
    },
    {
      "cell_type": "code",
      "metadata": {
        "colab": {
          "base_uri": "https://localhost:8080/",
          "height": 328
        },
        "id": "6A7BsuM9Fz0g",
        "outputId": "4064302c-0fde-4ea4-fe56-3b11659799bc"
      },
      "source": [
        "%matplotlib inline\n",
        "df['Data da Coleta'].value_counts().plot.bar()\n"
      ],
      "execution_count": 16,
      "outputs": [
        {
          "output_type": "execute_result",
          "data": {
            "text/plain": [
              "<matplotlib.axes._subplots.AxesSubplot at 0x7f53703db810>"
            ]
          },
          "metadata": {},
          "execution_count": 16
        },
        {
          "output_type": "display_data",
          "data": {
            "image/png": "[encoded data removed]",
            "text/plain": [
              "<Figure size 432x288 with 1 Axes>"
            ]
          },
          "metadata": {
            "needs_background": "light"
          }
        }
      ]
    },
    {
      "cell_type": "code",
      "metadata": {
        "colab": {
          "base_uri": "https://localhost:8080/"
        },
        "id": "U-V1aSDHH0rx",
        "outputId": "79b3f7d7-120d-4537-d42f-97ea7e193bfb"
      },
      "source": [
        "preco_litro_etanol = 4.27\n",
        "preco_litro_gasolina = 5.73\n",
        "\n",
        "media_por_litro = preco_litro_etanol / preco_litro_gasolina\n",
        "\n",
        "if media_por_litro < 0.7:\n",
        "    print(\"O álcool é melhor para abastercer e mais vantojoso\")\n",
        "elif media_por_litro > 0.7:\n",
        "    print(\"A Gasolina é melhor para abastercer e mais vantajoso\")"
      ],
      "execution_count": null,
      "outputs": [
        {
          "output_type": "stream",
          "name": "stdout",
          "text": [
            "A Gasolina é melhor para abastercer e mais vantajoso\n"
          ]
        }
      ]
    },
    {
      "cell_type": "code",
      "metadata": {
        "colab": {
          "base_uri": "https://localhost:8080/"
        },
        "id": "hPy2TeJSt36n",
        "outputId": "873cc470-8959-433b-ae99-24d433663ae9"
      },
      "source": [
        "#Cidades aonde é mais vantajoso abastecer com etanol\n",
        "vantagem_Etanol = pd.DataFrame({\n",
        "   'Município': ['Aracruz' , 'VITORIA DE SANTO ANTAO'],\n",
        "   'Produto': ['Etanol' , 'Etanol']                \n",
        "})\n",
        "\n",
        "print(vantagem_Etanol)"
      ],
      "execution_count": null,
      "outputs": [
        {
          "output_type": "stream",
          "name": "stdout",
          "text": [
            "                Município Produto\n",
            "0                 Aracruz  Etanol\n",
            "1  VITORIA DE SANTO ANTAO  Etanol\n"
          ]
        }
      ]
    }
  ]
}